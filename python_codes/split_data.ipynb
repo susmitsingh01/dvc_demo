{
 "cells": [
  {
   "cell_type": "code",
   "execution_count": null,
   "metadata": {},
   "outputs": [],
   "source": [
    "import pandas as pd"
   ]
  },
  {
   "cell_type": "markdown",
   "metadata": {},
   "source": [
    "# 1. Create a new .csv file using the second half of the dataset"
   ]
  },
  {
   "cell_type": "code",
   "execution_count": null,
   "metadata": {},
   "outputs": [],
   "source": [
    "# Load the data and have a look at it\n",
    "file_path = '/Users/susmitsingh/Susmit_Singh/python_codes/dvc_demo/data/Airline_customer_satisfaction.csv'\n",
    "data = pd.read_csv(file_path)\n",
    "data.head()\n",
    "\n",
    "# Data reference: https://www.kaggle.com/datasets/raminhuseyn/airline-customer-satisfaction/data"
   ]
  },
  {
   "cell_type": "code",
   "execution_count": null,
   "metadata": {},
   "outputs": [],
   "source": [
    "# Step 1: Calculate the starting index for the last 50 percent\n",
    "total_rows = len(data)\n",
    "start_index = total_rows // 2\n",
    "\n",
    "# Step 2: Read the CSV file from the start_index onward\n",
    "data_last_50_percent = pd.read_csv(file_path, skiprows=range(1, start_index + 1))\n",
    "\n",
    "# Step 3: Save the last 50 percent data to a new CSV file\n",
    "output_file_path = '/Users/susmitsingh/Susmit_Singh/python_codes/dvc_demo/data/half_data.csv'\n",
    "data_last_50_percent.to_csv(output_file_path, index=False)\n",
    "\n",
    "# Display confirmation message\n",
    "print(f\"The last 50 percent of the data has been saved to {output_file_path}\")\n"
   ]
  }
 ],
 "metadata": {
  "kernelspec": {
   "display_name": "env_mlops",
   "language": "python",
   "name": "python3"
  },
  "language_info": {
   "codemirror_mode": {
    "name": "ipython",
    "version": 3
   },
   "file_extension": ".py",
   "mimetype": "text/x-python",
   "name": "python",
   "nbconvert_exporter": "python",
   "pygments_lexer": "ipython3",
   "version": "3.10.10"
  }
 },
 "nbformat": 4,
 "nbformat_minor": 2
}
