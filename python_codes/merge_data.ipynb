{
 "cells": [
  {
   "cell_type": "code",
   "execution_count": null,
   "metadata": {},
   "outputs": [],
   "source": [
    "import pandas as pd\n",
    "\n",
    "# Step 1: Read the original CSV file\n",
    "file_path_1 = '/Users/susmitsingh/Susmit_Singh/python_codes/dvc_demo/data/Airline_customer_satisfaction.csv'\n",
    "\n",
    "df1 = pd.read_csv(file_path_1)\n",
    "\n",
    "# Step 2: Read the smaller CSV file\n",
    "file_path_2 = '/Users/susmitsingh/Susmit_Singh/python_codes/dvc_demo/data/half_data.csv'\n",
    "df2 = pd.read_csv(file_path_2)\n",
    "\n",
    "# Step 3: Append the second DataFrame to the first DataFrame\n",
    "df_combined = pd.concat([df1, df2])\n",
    "\n",
    "# Step 4: Save the combined DataFrame to a new CSV file\n",
    "output_file_path = '/Users/susmitsingh/Susmit_Singh/python_codes/dvc_demo/data/merged_1.csv'\n",
    "df_combined.to_csv(output_file_path)\n",
    "\n",
    "# Step 5: Display the first few rows of the combined DataFrame\n",
    "df_combined.head()"
   ]
  },
  {
   "cell_type": "code",
   "execution_count": 6,
   "metadata": {},
   "outputs": [
    {
     "name": "stdout",
     "output_type": "stream",
     "text": [
      "hello\n"
     ]
    }
   ],
   "source": [
    "print('hello')"
   ]
  },
  {
   "cell_type": "code",
   "execution_count": null,
   "metadata": {},
   "outputs": [],
   "source": []
  }
 ],
 "metadata": {
  "kernelspec": {
   "display_name": "env_mlops",
   "language": "python",
   "name": "python3"
  },
  "language_info": {
   "codemirror_mode": {
    "name": "ipython",
    "version": 3
   },
   "file_extension": ".py",
   "mimetype": "text/x-python",
   "name": "python",
   "nbconvert_exporter": "python",
   "pygments_lexer": "ipython3",
   "version": "3.10.10"
  }
 },
 "nbformat": 4,
 "nbformat_minor": 2
}
